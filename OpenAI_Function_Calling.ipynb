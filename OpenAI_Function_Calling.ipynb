{
  "nbformat": 4,
  "nbformat_minor": 0,
  "metadata": {
    "colab": {
      "provenance": [],
      "authorship_tag": "ABX9TyOLvzKeIVYWJsxabTQXJi+G",
      "include_colab_link": true
    },
    "kernelspec": {
      "name": "python3",
      "display_name": "Python 3"
    },
    "language_info": {
      "name": "python"
    }
  },
  "cells": [
    {
      "cell_type": "markdown",
      "metadata": {
        "id": "view-in-github",
        "colab_type": "text"
      },
      "source": [
        "<a href=\"https://colab.research.google.com/github/sirishshresthas/openai-function-calling/blob/main/OpenAI_Function_Calling.ipynb\" target=\"_parent\"><img src=\"https://colab.research.google.com/assets/colab-badge.svg\" alt=\"Open In Colab\"/></a>"
      ]
    },
    {
      "cell_type": "markdown",
      "source": [
        "## Function Calling"
      ],
      "metadata": {
        "id": "4U1qmCiVoEPb"
      }
    },
    {
      "cell_type": "code",
      "source": [
        "!pip install openai simple_colors --quiet"
      ],
      "metadata": {
        "id": "CCeCZECzEqR8",
        "colab": {
          "base_uri": "https://localhost:8080/"
        },
        "outputId": "d38e7a15-3b71-4f36-aaeb-a1c304eb0b73"
      },
      "execution_count": 4,
      "outputs": [
        {
          "output_type": "stream",
          "name": "stdout",
          "text": [
            "\u001b[2K     \u001b[90m━━━━━━━━━━━━━━━━━━━━━━━━━━━━━━━━━━━━━━━━\u001b[0m \u001b[32m262.9/262.9 kB\u001b[0m \u001b[31m5.1 MB/s\u001b[0m eta \u001b[36m0:00:00\u001b[0m\n",
            "\u001b[2K     \u001b[90m━━━━━━━━━━━━━━━━━━━━━━━━━━━━━━━━━━━━━━━━\u001b[0m \u001b[32m75.6/75.6 kB\u001b[0m \u001b[31m6.5 MB/s\u001b[0m eta \u001b[36m0:00:00\u001b[0m\n",
            "\u001b[2K     \u001b[90m━━━━━━━━━━━━━━━━━━━━━━━━━━━━━━━━━━━━━━━━\u001b[0m \u001b[32m77.9/77.9 kB\u001b[0m \u001b[31m9.2 MB/s\u001b[0m eta \u001b[36m0:00:00\u001b[0m\n",
            "\u001b[2K     \u001b[90m━━━━━━━━━━━━━━━━━━━━━━━━━━━━━━━━━━━━━━━━\u001b[0m \u001b[32m58.3/58.3 kB\u001b[0m \u001b[31m4.1 MB/s\u001b[0m eta \u001b[36m0:00:00\u001b[0m\n",
            "\u001b[?25h"
          ]
        }
      ]
    },
    {
      "cell_type": "code",
      "execution_count": 5,
      "metadata": {
        "id": "G9hRrByuBkKN"
      },
      "outputs": [],
      "source": [
        "from google.colab import userdata\n",
        "from pprint import pprint\n",
        "from openai import OpenAI\n",
        "from simple_colors import *\n",
        "import json"
      ]
    },
    {
      "cell_type": "code",
      "source": [
        "MODEL = 'gpt-3.5-turbo-1106'\n",
        "client = OpenAI(\n",
        "    api_key=userdata.get('OPENAI_API_KEY')\n",
        ")"
      ],
      "metadata": {
        "id": "z2PT6Ov-MS6U"
      },
      "execution_count": null,
      "outputs": []
    },
    {
      "cell_type": "markdown",
      "source": [
        "## 1. Data Extraction"
      ],
      "metadata": {
        "id": "HV5arfjkJlMO"
      }
    },
    {
      "cell_type": "code",
      "source": [
        "prompt = \"What is the population and capital of Djibouti? Return the response as JSON objec.\"\n"
      ],
      "metadata": {
        "id": "NN09FIHhHamk"
      },
      "execution_count": null,
      "outputs": []
    },
    {
      "cell_type": "code",
      "source": [
        "response = client.chat.completions.create(\n",
        "    model = MODEL,\n",
        "    messages = [{\n",
        "        \"role\": \"user\",\n",
        "        \"content\": prompt\n",
        "    }],\n",
        "    # response_format={\"type\": \"json_object\"} ## only supported in >= gpt-3.5-turbo-1106\n",
        ")"
      ],
      "metadata": {
        "id": "-o70rWH5G5C7"
      },
      "execution_count": null,
      "outputs": []
    },
    {
      "cell_type": "code",
      "source": [
        "pprint(response.choices[0].message.content)"
      ],
      "metadata": {
        "colab": {
          "base_uri": "https://localhost:8080/"
        },
        "id": "WBC5Ww3XHtOk",
        "outputId": "d65dcd96-4345-48d0-ea23-7f61911b5504"
      },
      "execution_count": null,
      "outputs": [
        {
          "output_type": "stream",
          "name": "stdout",
          "text": [
            "'{\\n  \"population\": 988000,\\n  \"capital\": \"Djibouti City\"\\n}'\n"
          ]
        }
      ]
    },
    {
      "cell_type": "code",
      "source": [
        "prompt = \"What is the population and capital of Pakistan? Return the response as JSON objec.\"\n"
      ],
      "metadata": {
        "id": "1iR8-utuHjyc"
      },
      "execution_count": null,
      "outputs": []
    },
    {
      "cell_type": "code",
      "source": [
        "response = client.chat.completions.create(\n",
        "    model = MODEL,\n",
        "    messages = [{\n",
        "        \"role\": \"user\",\n",
        "        \"content\": prompt\n",
        "    }],\n",
        "    # response_format={\"type\": \"json_object\"} ## only supported in >= gpt-3.5-turbo-1106\n",
        ")"
      ],
      "metadata": {
        "id": "0GgfL4K6Hq__"
      },
      "execution_count": null,
      "outputs": []
    },
    {
      "cell_type": "code",
      "source": [
        "pprint(response.choices[0].message.content)"
      ],
      "metadata": {
        "colab": {
          "base_uri": "https://localhost:8080/"
        },
        "id": "ZxDyxsyqOfv8",
        "outputId": "7e11fe28-1877-4ba4-9b2c-2e86e018cdc8"
      },
      "execution_count": null,
      "outputs": [
        {
          "output_type": "stream",
          "name": "stdout",
          "text": [
            "'{\\n  \"population\": 225200000,\\n  \"capital\": \"Islamabad\"\\n}'\n"
          ]
        }
      ]
    },
    {
      "cell_type": "code",
      "source": [
        "prompt = \"What is the population and capital of US?\""
      ],
      "metadata": {
        "id": "t0CbzPLUIQ8u"
      },
      "execution_count": null,
      "outputs": []
    },
    {
      "cell_type": "code",
      "source": [
        "response = client.chat.completions.create(\n",
        "    model = MODEL,\n",
        "    messages = [{\n",
        "        \"role\": \"user\",\n",
        "        \"content\": prompt\n",
        "    }],\n",
        "    # response_format={\"type\": \"json_object\"} ## only supported in >= gpt-3.5-turbo-1106\n",
        ")"
      ],
      "metadata": {
        "id": "gAfz6ChkIjJ0"
      },
      "execution_count": null,
      "outputs": []
    },
    {
      "cell_type": "code",
      "source": [
        "pprint(response.choices[0].message.content)"
      ],
      "metadata": {
        "colab": {
          "base_uri": "https://localhost:8080/"
        },
        "id": "axeKhuO3IQ5j",
        "outputId": "efb54b71-1b50-4ffb-ccef-8d5ede5615f7"
      },
      "execution_count": null,
      "outputs": [
        {
          "output_type": "stream",
          "name": "stdout",
          "text": [
            "('The population of the United States is approximately 331 million people, and '\n",
            " 'the capital is Washington, D.C.')\n"
          ]
        }
      ]
    },
    {
      "cell_type": "markdown",
      "source": [
        "So, it's never consistent with the result. Some times it produces result with comma while other times it returns the values as string."
      ],
      "metadata": {
        "id": "lzyIBnIIImH8"
      }
    },
    {
      "cell_type": "markdown",
      "source": [
        "#### Define function calling"
      ],
      "metadata": {
        "id": "qrhbsTMSI1Xh"
      }
    },
    {
      "cell_type": "code",
      "source": [
        "fn_tools = [\n",
        "    {\n",
        "        \"type\": \"function\",\n",
        "        \"function\": {\n",
        "            \"name\": \"get_country_stats\",\n",
        "            \"description\": \"Get the statistics of a country\",\n",
        "            \"parameters\": {\n",
        "                \"type\": \"object\",\n",
        "                \"properties\": {\n",
        "                    \"population\": {\n",
        "                        \"type\": \"integer\",\n",
        "                        \"description\": \"Population of the country.\"\n",
        "                    },\n",
        "                    \"capital\": {\n",
        "                        \"type\": \"string\",\n",
        "                        \"description\": \"Capital of the country\"\n",
        "                    }\n",
        "                },\n",
        "                \"required\": [\"population\", \"capital\"]\n",
        "            }\n",
        "        }\n",
        "    }\n",
        "]"
      ],
      "metadata": {
        "id": "tpW1tetbGFnd"
      },
      "execution_count": null,
      "outputs": []
    },
    {
      "cell_type": "markdown",
      "source": [
        "Now, initiate GPT call with tools"
      ],
      "metadata": {
        "id": "1bkmed84JS_i"
      }
    },
    {
      "cell_type": "code",
      "source": [
        "prompt = \"What is the population and capital of US?\""
      ],
      "metadata": {
        "id": "BnopNc5FLHsu"
      },
      "execution_count": null,
      "outputs": []
    },
    {
      "cell_type": "code",
      "source": [
        "response = client.chat.completions.create(\n",
        "    model = MODEL,\n",
        "    messages = [{\n",
        "        \"role\": \"user\",\n",
        "        \"content\": prompt\n",
        "    }],\n",
        "    tools=fn_tools,\n",
        "    tool_choice=\"auto\"\n",
        ")"
      ],
      "metadata": {
        "id": "PSP0aKbCJSFc"
      },
      "execution_count": null,
      "outputs": []
    },
    {
      "cell_type": "code",
      "source": [
        "output = response.choices[0].message.tool_calls[0]\n",
        "\n",
        "fn_name = output.function.name\n",
        "arguments = json.loads(output.function.arguments)\n",
        "\n",
        "print(fn_name)\n",
        "print(arguments)"
      ],
      "metadata": {
        "colab": {
          "base_uri": "https://localhost:8080/"
        },
        "id": "5l7BgXByJkZJ",
        "outputId": "1d9f5e93-94dd-495c-c81a-129f363d8b97"
      },
      "execution_count": null,
      "outputs": [
        {
          "output_type": "stream",
          "name": "stdout",
          "text": [
            "get_country_stats\n",
            "{'population': 328200000, 'capital': 'Washington D.C.'}\n"
          ]
        }
      ]
    },
    {
      "cell_type": "markdown",
      "source": [
        "### 2. Code Execution\n",
        "\n",
        "**Security Warning**: Be cautious when using exec() and eval(), especially with untrusted input. These functions can execute arbitrary code, which might be a significant security risk."
      ],
      "metadata": {
        "id": "dTx0DhWALvNh"
      }
    },
    {
      "cell_type": "code",
      "source": [
        "fn_tools = [\n",
        "    {\n",
        "        \"type\": \"function\",\n",
        "        \"function\": {\n",
        "            \"name\": \"exec_code\",\n",
        "            \"description\": \"Execute the code returned by GPT model.\",\n",
        "            \"parameters\": {\n",
        "                \"type\": \"object\",\n",
        "                \"properties\": {\n",
        "                    \"code\": {\n",
        "                        \"type\": \"string\",\n",
        "                        \"description\": \"Code in string returned by GPT model.\"\n",
        "                    }\n",
        "                },\n",
        "            \"required\": [\"code\"]\n",
        "            }\n",
        "        }\n",
        "    }\n",
        "]\n",
        "\n",
        "\n",
        "def exec_code(code):\n",
        "  try:\n",
        "    exec(code, globals())\n",
        "  except Exception as e:\n",
        "    raise e"
      ],
      "metadata": {
        "id": "6IFjAMo2JiPR"
      },
      "execution_count": null,
      "outputs": []
    },
    {
      "cell_type": "code",
      "source": [
        "prompt = \"Write a Python function to calculate and print the given numbers of the Fibonacci sequence\"\n"
      ],
      "metadata": {
        "id": "NEnob3etmC4U"
      },
      "execution_count": null,
      "outputs": []
    },
    {
      "cell_type": "code",
      "source": [
        "response = client.chat.completions.create(\n",
        "    model = MODEL,\n",
        "    messages = [{\n",
        "        \"role\": \"user\",\n",
        "        \"content\": prompt\n",
        "    }],\n",
        "    tools=fn_tools,\n",
        "    tool_choice={\"type\": \"function\", \"function\": {\"name\": \"exec_code\"}},\n",
        "\n",
        ")"
      ],
      "metadata": {
        "id": "1T1qN5D3JiMX"
      },
      "execution_count": null,
      "outputs": []
    },
    {
      "cell_type": "code",
      "source": [
        "res = response.choices[0].message\n",
        "tool_calls = res.tool_calls"
      ],
      "metadata": {
        "id": "aPiUT6RrJiId"
      },
      "execution_count": null,
      "outputs": []
    },
    {
      "cell_type": "code",
      "source": [
        "tool_calls"
      ],
      "metadata": {
        "colab": {
          "base_uri": "https://localhost:8080/"
        },
        "id": "SCqfIO06Na0N",
        "outputId": "7530c1cd-1fbd-4e6f-9b57-248f46ce30d7"
      },
      "execution_count": null,
      "outputs": [
        {
          "output_type": "execute_result",
          "data": {
            "text/plain": [
              "[ChatCompletionMessageToolCall(id='call_SQ5mONfzcNIef2L8QXtYV8F5', function=Function(arguments='{\"code\":\"def fibonacci_sequence(n):\\\\n    fib_sequence = [0, 1]\\\\n    for i in range(2, n):\\\\n        next_number = fib_sequence[i-1] + fib_sequence[i-2]\\\\n        fib_sequence.append(next_number)\\\\n    return fib_sequence\"}', name='exec_code'), type='function')]"
            ]
          },
          "metadata": {},
          "execution_count": 290
        }
      ]
    },
    {
      "cell_type": "code",
      "source": [
        "fn = eval(tool_calls[0].function.name)\n",
        "args = json.loads(tool_calls[0].function.arguments)\n",
        "\n",
        "fn(**args)"
      ],
      "metadata": {
        "id": "NrQ6Bug_JiBC"
      },
      "execution_count": null,
      "outputs": []
    },
    {
      "cell_type": "code",
      "source": [
        "fibonacci_sequence(12)"
      ],
      "metadata": {
        "colab": {
          "base_uri": "https://localhost:8080/"
        },
        "id": "LJVvKhF_nF93",
        "outputId": "98dde015-899c-4354-b257-03623512cf65"
      },
      "execution_count": null,
      "outputs": [
        {
          "output_type": "execute_result",
          "data": {
            "text/plain": [
              "[0, 1, 1, 2, 3, 5, 8, 13, 21, 34, 55, 89]"
            ]
          },
          "metadata": {},
          "execution_count": 294
        }
      ]
    },
    {
      "cell_type": "markdown",
      "source": [
        "## 3. Database Information Retrieval"
      ],
      "metadata": {
        "id": "WqxxxI-QrFfn"
      }
    },
    {
      "cell_type": "code",
      "source": [
        "import pandas as pd"
      ],
      "metadata": {
        "id": "DT1iYvhKsJDG"
      },
      "execution_count": null,
      "outputs": []
    },
    {
      "cell_type": "code",
      "source": [
        "url = 'https://www.dropbox.com/scl/fi/9gedcvinwkzeoo8ujy9i8/supermarket_sales.csv?rlkey=vzepsac9g1nus7blvysi0p1ah&dl=1'\n",
        "data = pd.read_csv(url)\n",
        "data\n"
      ],
      "metadata": {
        "colab": {
          "base_uri": "https://localhost:8080/",
          "height": 652
        },
        "id": "oXIM57MgsJA9",
        "outputId": "f68daeeb-24e6-4e8f-ad78-ad964ca44573"
      },
      "execution_count": null,
      "outputs": [
        {
          "output_type": "execute_result",
          "data": {
            "text/plain": [
              "      Invoice ID Branch       City Customer type  Gender  \\\n",
              "0    750-67-8428      A     Yangon        Member  Female   \n",
              "1    226-31-3081      C  Naypyitaw        Normal  Female   \n",
              "2    631-41-3108      A     Yangon        Normal    Male   \n",
              "3    123-19-1176      A     Yangon        Member    Male   \n",
              "4    373-73-7910      A     Yangon        Normal    Male   \n",
              "..           ...    ...        ...           ...     ...   \n",
              "995  233-67-5758      C  Naypyitaw        Normal    Male   \n",
              "996  303-96-2227      B   Mandalay        Normal  Female   \n",
              "997  727-02-1313      A     Yangon        Member    Male   \n",
              "998  347-56-2442      A     Yangon        Normal    Male   \n",
              "999  849-09-3807      A     Yangon        Member  Female   \n",
              "\n",
              "               Product line  Unit price  Quantity   Tax 5%      Total  \\\n",
              "0         Health and beauty       74.69         7  26.1415   548.9715   \n",
              "1    Electronic accessories       15.28         5   3.8200    80.2200   \n",
              "2        Home and lifestyle       46.33         7  16.2155   340.5255   \n",
              "3         Health and beauty       58.22         8  23.2880   489.0480   \n",
              "4         Sports and travel       86.31         7  30.2085   634.3785   \n",
              "..                      ...         ...       ...      ...        ...   \n",
              "995       Health and beauty       40.35         1   2.0175    42.3675   \n",
              "996      Home and lifestyle       97.38        10  48.6900  1022.4900   \n",
              "997      Food and beverages       31.84         1   1.5920    33.4320   \n",
              "998      Home and lifestyle       65.82         1   3.2910    69.1110   \n",
              "999     Fashion accessories       88.34         7  30.9190   649.2990   \n",
              "\n",
              "          Date   Time      Payment    cogs  gross margin percentage  \\\n",
              "0     1/5/2019  13:08      Ewallet  522.83                 4.761905   \n",
              "1     3/8/2019  10:29         Cash   76.40                 4.761905   \n",
              "2     3/3/2019  13:23  Credit card  324.31                 4.761905   \n",
              "3    1/27/2019  20:33      Ewallet  465.76                 4.761905   \n",
              "4     2/8/2019  10:37      Ewallet  604.17                 4.761905   \n",
              "..         ...    ...          ...     ...                      ...   \n",
              "995  1/29/2019  13:46      Ewallet   40.35                 4.761905   \n",
              "996   3/2/2019  17:16      Ewallet  973.80                 4.761905   \n",
              "997   2/9/2019  13:22         Cash   31.84                 4.761905   \n",
              "998  2/22/2019  15:33         Cash   65.82                 4.761905   \n",
              "999  2/18/2019  13:28         Cash  618.38                 4.761905   \n",
              "\n",
              "     gross income  Rating  \n",
              "0         26.1415     9.1  \n",
              "1          3.8200     9.6  \n",
              "2         16.2155     7.4  \n",
              "3         23.2880     8.4  \n",
              "4         30.2085     5.3  \n",
              "..            ...     ...  \n",
              "995        2.0175     6.2  \n",
              "996       48.6900     4.4  \n",
              "997        1.5920     7.7  \n",
              "998        3.2910     4.1  \n",
              "999       30.9190     6.6  \n",
              "\n",
              "[1000 rows x 17 columns]"
            ],
            "text/html": [
              "\n",
              "  <div id=\"df-a6628eb5-d7b4-4b61-9862-4c45a3ace770\" class=\"colab-df-container\">\n",
              "    <div>\n",
              "<style scoped>\n",
              "    .dataframe tbody tr th:only-of-type {\n",
              "        vertical-align: middle;\n",
              "    }\n",
              "\n",
              "    .dataframe tbody tr th {\n",
              "        vertical-align: top;\n",
              "    }\n",
              "\n",
              "    .dataframe thead th {\n",
              "        text-align: right;\n",
              "    }\n",
              "</style>\n",
              "<table border=\"1\" class=\"dataframe\">\n",
              "  <thead>\n",
              "    <tr style=\"text-align: right;\">\n",
              "      <th></th>\n",
              "      <th>Invoice ID</th>\n",
              "      <th>Branch</th>\n",
              "      <th>City</th>\n",
              "      <th>Customer type</th>\n",
              "      <th>Gender</th>\n",
              "      <th>Product line</th>\n",
              "      <th>Unit price</th>\n",
              "      <th>Quantity</th>\n",
              "      <th>Tax 5%</th>\n",
              "      <th>Total</th>\n",
              "      <th>Date</th>\n",
              "      <th>Time</th>\n",
              "      <th>Payment</th>\n",
              "      <th>cogs</th>\n",
              "      <th>gross margin percentage</th>\n",
              "      <th>gross income</th>\n",
              "      <th>Rating</th>\n",
              "    </tr>\n",
              "  </thead>\n",
              "  <tbody>\n",
              "    <tr>\n",
              "      <th>0</th>\n",
              "      <td>750-67-8428</td>\n",
              "      <td>A</td>\n",
              "      <td>Yangon</td>\n",
              "      <td>Member</td>\n",
              "      <td>Female</td>\n",
              "      <td>Health and beauty</td>\n",
              "      <td>74.69</td>\n",
              "      <td>7</td>\n",
              "      <td>26.1415</td>\n",
              "      <td>548.9715</td>\n",
              "      <td>1/5/2019</td>\n",
              "      <td>13:08</td>\n",
              "      <td>Ewallet</td>\n",
              "      <td>522.83</td>\n",
              "      <td>4.761905</td>\n",
              "      <td>26.1415</td>\n",
              "      <td>9.1</td>\n",
              "    </tr>\n",
              "    <tr>\n",
              "      <th>1</th>\n",
              "      <td>226-31-3081</td>\n",
              "      <td>C</td>\n",
              "      <td>Naypyitaw</td>\n",
              "      <td>Normal</td>\n",
              "      <td>Female</td>\n",
              "      <td>Electronic accessories</td>\n",
              "      <td>15.28</td>\n",
              "      <td>5</td>\n",
              "      <td>3.8200</td>\n",
              "      <td>80.2200</td>\n",
              "      <td>3/8/2019</td>\n",
              "      <td>10:29</td>\n",
              "      <td>Cash</td>\n",
              "      <td>76.40</td>\n",
              "      <td>4.761905</td>\n",
              "      <td>3.8200</td>\n",
              "      <td>9.6</td>\n",
              "    </tr>\n",
              "    <tr>\n",
              "      <th>2</th>\n",
              "      <td>631-41-3108</td>\n",
              "      <td>A</td>\n",
              "      <td>Yangon</td>\n",
              "      <td>Normal</td>\n",
              "      <td>Male</td>\n",
              "      <td>Home and lifestyle</td>\n",
              "      <td>46.33</td>\n",
              "      <td>7</td>\n",
              "      <td>16.2155</td>\n",
              "      <td>340.5255</td>\n",
              "      <td>3/3/2019</td>\n",
              "      <td>13:23</td>\n",
              "      <td>Credit card</td>\n",
              "      <td>324.31</td>\n",
              "      <td>4.761905</td>\n",
              "      <td>16.2155</td>\n",
              "      <td>7.4</td>\n",
              "    </tr>\n",
              "    <tr>\n",
              "      <th>3</th>\n",
              "      <td>123-19-1176</td>\n",
              "      <td>A</td>\n",
              "      <td>Yangon</td>\n",
              "      <td>Member</td>\n",
              "      <td>Male</td>\n",
              "      <td>Health and beauty</td>\n",
              "      <td>58.22</td>\n",
              "      <td>8</td>\n",
              "      <td>23.2880</td>\n",
              "      <td>489.0480</td>\n",
              "      <td>1/27/2019</td>\n",
              "      <td>20:33</td>\n",
              "      <td>Ewallet</td>\n",
              "      <td>465.76</td>\n",
              "      <td>4.761905</td>\n",
              "      <td>23.2880</td>\n",
              "      <td>8.4</td>\n",
              "    </tr>\n",
              "    <tr>\n",
              "      <th>4</th>\n",
              "      <td>373-73-7910</td>\n",
              "      <td>A</td>\n",
              "      <td>Yangon</td>\n",
              "      <td>Normal</td>\n",
              "      <td>Male</td>\n",
              "      <td>Sports and travel</td>\n",
              "      <td>86.31</td>\n",
              "      <td>7</td>\n",
              "      <td>30.2085</td>\n",
              "      <td>634.3785</td>\n",
              "      <td>2/8/2019</td>\n",
              "      <td>10:37</td>\n",
              "      <td>Ewallet</td>\n",
              "      <td>604.17</td>\n",
              "      <td>4.761905</td>\n",
              "      <td>30.2085</td>\n",
              "      <td>5.3</td>\n",
              "    </tr>\n",
              "    <tr>\n",
              "      <th>...</th>\n",
              "      <td>...</td>\n",
              "      <td>...</td>\n",
              "      <td>...</td>\n",
              "      <td>...</td>\n",
              "      <td>...</td>\n",
              "      <td>...</td>\n",
              "      <td>...</td>\n",
              "      <td>...</td>\n",
              "      <td>...</td>\n",
              "      <td>...</td>\n",
              "      <td>...</td>\n",
              "      <td>...</td>\n",
              "      <td>...</td>\n",
              "      <td>...</td>\n",
              "      <td>...</td>\n",
              "      <td>...</td>\n",
              "      <td>...</td>\n",
              "    </tr>\n",
              "    <tr>\n",
              "      <th>995</th>\n",
              "      <td>233-67-5758</td>\n",
              "      <td>C</td>\n",
              "      <td>Naypyitaw</td>\n",
              "      <td>Normal</td>\n",
              "      <td>Male</td>\n",
              "      <td>Health and beauty</td>\n",
              "      <td>40.35</td>\n",
              "      <td>1</td>\n",
              "      <td>2.0175</td>\n",
              "      <td>42.3675</td>\n",
              "      <td>1/29/2019</td>\n",
              "      <td>13:46</td>\n",
              "      <td>Ewallet</td>\n",
              "      <td>40.35</td>\n",
              "      <td>4.761905</td>\n",
              "      <td>2.0175</td>\n",
              "      <td>6.2</td>\n",
              "    </tr>\n",
              "    <tr>\n",
              "      <th>996</th>\n",
              "      <td>303-96-2227</td>\n",
              "      <td>B</td>\n",
              "      <td>Mandalay</td>\n",
              "      <td>Normal</td>\n",
              "      <td>Female</td>\n",
              "      <td>Home and lifestyle</td>\n",
              "      <td>97.38</td>\n",
              "      <td>10</td>\n",
              "      <td>48.6900</td>\n",
              "      <td>1022.4900</td>\n",
              "      <td>3/2/2019</td>\n",
              "      <td>17:16</td>\n",
              "      <td>Ewallet</td>\n",
              "      <td>973.80</td>\n",
              "      <td>4.761905</td>\n",
              "      <td>48.6900</td>\n",
              "      <td>4.4</td>\n",
              "    </tr>\n",
              "    <tr>\n",
              "      <th>997</th>\n",
              "      <td>727-02-1313</td>\n",
              "      <td>A</td>\n",
              "      <td>Yangon</td>\n",
              "      <td>Member</td>\n",
              "      <td>Male</td>\n",
              "      <td>Food and beverages</td>\n",
              "      <td>31.84</td>\n",
              "      <td>1</td>\n",
              "      <td>1.5920</td>\n",
              "      <td>33.4320</td>\n",
              "      <td>2/9/2019</td>\n",
              "      <td>13:22</td>\n",
              "      <td>Cash</td>\n",
              "      <td>31.84</td>\n",
              "      <td>4.761905</td>\n",
              "      <td>1.5920</td>\n",
              "      <td>7.7</td>\n",
              "    </tr>\n",
              "    <tr>\n",
              "      <th>998</th>\n",
              "      <td>347-56-2442</td>\n",
              "      <td>A</td>\n",
              "      <td>Yangon</td>\n",
              "      <td>Normal</td>\n",
              "      <td>Male</td>\n",
              "      <td>Home and lifestyle</td>\n",
              "      <td>65.82</td>\n",
              "      <td>1</td>\n",
              "      <td>3.2910</td>\n",
              "      <td>69.1110</td>\n",
              "      <td>2/22/2019</td>\n",
              "      <td>15:33</td>\n",
              "      <td>Cash</td>\n",
              "      <td>65.82</td>\n",
              "      <td>4.761905</td>\n",
              "      <td>3.2910</td>\n",
              "      <td>4.1</td>\n",
              "    </tr>\n",
              "    <tr>\n",
              "      <th>999</th>\n",
              "      <td>849-09-3807</td>\n",
              "      <td>A</td>\n",
              "      <td>Yangon</td>\n",
              "      <td>Member</td>\n",
              "      <td>Female</td>\n",
              "      <td>Fashion accessories</td>\n",
              "      <td>88.34</td>\n",
              "      <td>7</td>\n",
              "      <td>30.9190</td>\n",
              "      <td>649.2990</td>\n",
              "      <td>2/18/2019</td>\n",
              "      <td>13:28</td>\n",
              "      <td>Cash</td>\n",
              "      <td>618.38</td>\n",
              "      <td>4.761905</td>\n",
              "      <td>30.9190</td>\n",
              "      <td>6.6</td>\n",
              "    </tr>\n",
              "  </tbody>\n",
              "</table>\n",
              "<p>1000 rows × 17 columns</p>\n",
              "</div>\n",
              "    <div class=\"colab-df-buttons\">\n",
              "\n",
              "  <div class=\"colab-df-container\">\n",
              "    <button class=\"colab-df-convert\" onclick=\"convertToInteractive('df-a6628eb5-d7b4-4b61-9862-4c45a3ace770')\"\n",
              "            title=\"Convert this dataframe to an interactive table.\"\n",
              "            style=\"display:none;\">\n",
              "\n",
              "  <svg xmlns=\"http://www.w3.org/2000/svg\" height=\"24px\" viewBox=\"0 -960 960 960\">\n",
              "    <path d=\"M120-120v-720h720v720H120Zm60-500h600v-160H180v160Zm220 220h160v-160H400v160Zm0 220h160v-160H400v160ZM180-400h160v-160H180v160Zm440 0h160v-160H620v160ZM180-180h160v-160H180v160Zm440 0h160v-160H620v160Z\"/>\n",
              "  </svg>\n",
              "    </button>\n",
              "\n",
              "  <style>\n",
              "    .colab-df-container {\n",
              "      display:flex;\n",
              "      gap: 12px;\n",
              "    }\n",
              "\n",
              "    .colab-df-convert {\n",
              "      background-color: #E8F0FE;\n",
              "      border: none;\n",
              "      border-radius: 50%;\n",
              "      cursor: pointer;\n",
              "      display: none;\n",
              "      fill: #1967D2;\n",
              "      height: 32px;\n",
              "      padding: 0 0 0 0;\n",
              "      width: 32px;\n",
              "    }\n",
              "\n",
              "    .colab-df-convert:hover {\n",
              "      background-color: #E2EBFA;\n",
              "      box-shadow: 0px 1px 2px rgba(60, 64, 67, 0.3), 0px 1px 3px 1px rgba(60, 64, 67, 0.15);\n",
              "      fill: #174EA6;\n",
              "    }\n",
              "\n",
              "    .colab-df-buttons div {\n",
              "      margin-bottom: 4px;\n",
              "    }\n",
              "\n",
              "    [theme=dark] .colab-df-convert {\n",
              "      background-color: #3B4455;\n",
              "      fill: #D2E3FC;\n",
              "    }\n",
              "\n",
              "    [theme=dark] .colab-df-convert:hover {\n",
              "      background-color: #434B5C;\n",
              "      box-shadow: 0px 1px 3px 1px rgba(0, 0, 0, 0.15);\n",
              "      filter: drop-shadow(0px 1px 2px rgba(0, 0, 0, 0.3));\n",
              "      fill: #FFFFFF;\n",
              "    }\n",
              "  </style>\n",
              "\n",
              "    <script>\n",
              "      const buttonEl =\n",
              "        document.querySelector('#df-a6628eb5-d7b4-4b61-9862-4c45a3ace770 button.colab-df-convert');\n",
              "      buttonEl.style.display =\n",
              "        google.colab.kernel.accessAllowed ? 'block' : 'none';\n",
              "\n",
              "      async function convertToInteractive(key) {\n",
              "        const element = document.querySelector('#df-a6628eb5-d7b4-4b61-9862-4c45a3ace770');\n",
              "        const dataTable =\n",
              "          await google.colab.kernel.invokeFunction('convertToInteractive',\n",
              "                                                    [key], {});\n",
              "        if (!dataTable) return;\n",
              "\n",
              "        const docLinkHtml = 'Like what you see? Visit the ' +\n",
              "          '<a target=\"_blank\" href=https://colab.research.google.com/notebooks/data_table.ipynb>data table notebook</a>'\n",
              "          + ' to learn more about interactive tables.';\n",
              "        element.innerHTML = '';\n",
              "        dataTable['output_type'] = 'display_data';\n",
              "        await google.colab.output.renderOutput(dataTable, element);\n",
              "        const docLink = document.createElement('div');\n",
              "        docLink.innerHTML = docLinkHtml;\n",
              "        element.appendChild(docLink);\n",
              "      }\n",
              "    </script>\n",
              "  </div>\n",
              "\n",
              "\n",
              "<div id=\"df-17456a7c-ceeb-4098-81f3-7ca246dd0fe4\">\n",
              "  <button class=\"colab-df-quickchart\" onclick=\"quickchart('df-17456a7c-ceeb-4098-81f3-7ca246dd0fe4')\"\n",
              "            title=\"Suggest charts\"\n",
              "            style=\"display:none;\">\n",
              "\n",
              "<svg xmlns=\"http://www.w3.org/2000/svg\" height=\"24px\"viewBox=\"0 0 24 24\"\n",
              "     width=\"24px\">\n",
              "    <g>\n",
              "        <path d=\"M19 3H5c-1.1 0-2 .9-2 2v14c0 1.1.9 2 2 2h14c1.1 0 2-.9 2-2V5c0-1.1-.9-2-2-2zM9 17H7v-7h2v7zm4 0h-2V7h2v10zm4 0h-2v-4h2v4z\"/>\n",
              "    </g>\n",
              "</svg>\n",
              "  </button>\n",
              "\n",
              "<style>\n",
              "  .colab-df-quickchart {\n",
              "      --bg-color: #E8F0FE;\n",
              "      --fill-color: #1967D2;\n",
              "      --hover-bg-color: #E2EBFA;\n",
              "      --hover-fill-color: #174EA6;\n",
              "      --disabled-fill-color: #AAA;\n",
              "      --disabled-bg-color: #DDD;\n",
              "  }\n",
              "\n",
              "  [theme=dark] .colab-df-quickchart {\n",
              "      --bg-color: #3B4455;\n",
              "      --fill-color: #D2E3FC;\n",
              "      --hover-bg-color: #434B5C;\n",
              "      --hover-fill-color: #FFFFFF;\n",
              "      --disabled-bg-color: #3B4455;\n",
              "      --disabled-fill-color: #666;\n",
              "  }\n",
              "\n",
              "  .colab-df-quickchart {\n",
              "    background-color: var(--bg-color);\n",
              "    border: none;\n",
              "    border-radius: 50%;\n",
              "    cursor: pointer;\n",
              "    display: none;\n",
              "    fill: var(--fill-color);\n",
              "    height: 32px;\n",
              "    padding: 0;\n",
              "    width: 32px;\n",
              "  }\n",
              "\n",
              "  .colab-df-quickchart:hover {\n",
              "    background-color: var(--hover-bg-color);\n",
              "    box-shadow: 0 1px 2px rgba(60, 64, 67, 0.3), 0 1px 3px 1px rgba(60, 64, 67, 0.15);\n",
              "    fill: var(--button-hover-fill-color);\n",
              "  }\n",
              "\n",
              "  .colab-df-quickchart-complete:disabled,\n",
              "  .colab-df-quickchart-complete:disabled:hover {\n",
              "    background-color: var(--disabled-bg-color);\n",
              "    fill: var(--disabled-fill-color);\n",
              "    box-shadow: none;\n",
              "  }\n",
              "\n",
              "  .colab-df-spinner {\n",
              "    border: 2px solid var(--fill-color);\n",
              "    border-color: transparent;\n",
              "    border-bottom-color: var(--fill-color);\n",
              "    animation:\n",
              "      spin 1s steps(1) infinite;\n",
              "  }\n",
              "\n",
              "  @keyframes spin {\n",
              "    0% {\n",
              "      border-color: transparent;\n",
              "      border-bottom-color: var(--fill-color);\n",
              "      border-left-color: var(--fill-color);\n",
              "    }\n",
              "    20% {\n",
              "      border-color: transparent;\n",
              "      border-left-color: var(--fill-color);\n",
              "      border-top-color: var(--fill-color);\n",
              "    }\n",
              "    30% {\n",
              "      border-color: transparent;\n",
              "      border-left-color: var(--fill-color);\n",
              "      border-top-color: var(--fill-color);\n",
              "      border-right-color: var(--fill-color);\n",
              "    }\n",
              "    40% {\n",
              "      border-color: transparent;\n",
              "      border-right-color: var(--fill-color);\n",
              "      border-top-color: var(--fill-color);\n",
              "    }\n",
              "    60% {\n",
              "      border-color: transparent;\n",
              "      border-right-color: var(--fill-color);\n",
              "    }\n",
              "    80% {\n",
              "      border-color: transparent;\n",
              "      border-right-color: var(--fill-color);\n",
              "      border-bottom-color: var(--fill-color);\n",
              "    }\n",
              "    90% {\n",
              "      border-color: transparent;\n",
              "      border-bottom-color: var(--fill-color);\n",
              "    }\n",
              "  }\n",
              "</style>\n",
              "\n",
              "  <script>\n",
              "    async function quickchart(key) {\n",
              "      const quickchartButtonEl =\n",
              "        document.querySelector('#' + key + ' button');\n",
              "      quickchartButtonEl.disabled = true;  // To prevent multiple clicks.\n",
              "      quickchartButtonEl.classList.add('colab-df-spinner');\n",
              "      try {\n",
              "        const charts = await google.colab.kernel.invokeFunction(\n",
              "            'suggestCharts', [key], {});\n",
              "      } catch (error) {\n",
              "        console.error('Error during call to suggestCharts:', error);\n",
              "      }\n",
              "      quickchartButtonEl.classList.remove('colab-df-spinner');\n",
              "      quickchartButtonEl.classList.add('colab-df-quickchart-complete');\n",
              "    }\n",
              "    (() => {\n",
              "      let quickchartButtonEl =\n",
              "        document.querySelector('#df-17456a7c-ceeb-4098-81f3-7ca246dd0fe4 button');\n",
              "      quickchartButtonEl.style.display =\n",
              "        google.colab.kernel.accessAllowed ? 'block' : 'none';\n",
              "    })();\n",
              "  </script>\n",
              "</div>\n",
              "\n",
              "  <div id=\"id_99ea7fed-9ced-462f-a957-4badd72d6397\">\n",
              "    <style>\n",
              "      .colab-df-generate {\n",
              "        background-color: #E8F0FE;\n",
              "        border: none;\n",
              "        border-radius: 50%;\n",
              "        cursor: pointer;\n",
              "        display: none;\n",
              "        fill: #1967D2;\n",
              "        height: 32px;\n",
              "        padding: 0 0 0 0;\n",
              "        width: 32px;\n",
              "      }\n",
              "\n",
              "      .colab-df-generate:hover {\n",
              "        background-color: #E2EBFA;\n",
              "        box-shadow: 0px 1px 2px rgba(60, 64, 67, 0.3), 0px 1px 3px 1px rgba(60, 64, 67, 0.15);\n",
              "        fill: #174EA6;\n",
              "      }\n",
              "\n",
              "      [theme=dark] .colab-df-generate {\n",
              "        background-color: #3B4455;\n",
              "        fill: #D2E3FC;\n",
              "      }\n",
              "\n",
              "      [theme=dark] .colab-df-generate:hover {\n",
              "        background-color: #434B5C;\n",
              "        box-shadow: 0px 1px 3px 1px rgba(0, 0, 0, 0.15);\n",
              "        filter: drop-shadow(0px 1px 2px rgba(0, 0, 0, 0.3));\n",
              "        fill: #FFFFFF;\n",
              "      }\n",
              "    </style>\n",
              "    <button class=\"colab-df-generate\" onclick=\"generateWithVariable('data')\"\n",
              "            title=\"Generate code using this dataframe.\"\n",
              "            style=\"display:none;\">\n",
              "\n",
              "  <svg xmlns=\"http://www.w3.org/2000/svg\" height=\"24px\"viewBox=\"0 0 24 24\"\n",
              "       width=\"24px\">\n",
              "    <path d=\"M7,19H8.4L18.45,9,17,7.55,7,17.6ZM5,21V16.75L18.45,3.32a2,2,0,0,1,2.83,0l1.4,1.43a1.91,1.91,0,0,1,.58,1.4,1.91,1.91,0,0,1-.58,1.4L9.25,21ZM18.45,9,17,7.55Zm-12,3A5.31,5.31,0,0,0,4.9,8.1,5.31,5.31,0,0,0,1,6.5,5.31,5.31,0,0,0,4.9,4.9,5.31,5.31,0,0,0,6.5,1,5.31,5.31,0,0,0,8.1,4.9,5.31,5.31,0,0,0,12,6.5,5.46,5.46,0,0,0,6.5,12Z\"/>\n",
              "  </svg>\n",
              "    </button>\n",
              "    <script>\n",
              "      (() => {\n",
              "      const buttonEl =\n",
              "        document.querySelector('#id_99ea7fed-9ced-462f-a957-4badd72d6397 button.colab-df-generate');\n",
              "      buttonEl.style.display =\n",
              "        google.colab.kernel.accessAllowed ? 'block' : 'none';\n",
              "\n",
              "      buttonEl.onclick = () => {\n",
              "        google.colab.notebook.generateWithVariable('data');\n",
              "      }\n",
              "      })();\n",
              "    </script>\n",
              "  </div>\n",
              "\n",
              "    </div>\n",
              "  </div>\n"
            ],
            "application/vnd.google.colaboratory.intrinsic+json": {
              "type": "dataframe",
              "variable_name": "data",
              "summary": "{\n  \"name\": \"data\",\n  \"rows\": 1000,\n  \"fields\": [\n    {\n      \"column\": \"Invoice ID\",\n      \"properties\": {\n        \"dtype\": \"string\",\n        \"num_unique_values\": 1000,\n        \"samples\": [\n          \"451-28-5717\",\n          \"137-63-5492\",\n          \"733-29-1227\"\n        ],\n        \"semantic_type\": \"\",\n        \"description\": \"\"\n      }\n    },\n    {\n      \"column\": \"Branch\",\n      \"properties\": {\n        \"dtype\": \"category\",\n        \"num_unique_values\": 3,\n        \"samples\": [\n          \"A\",\n          \"C\",\n          \"B\"\n        ],\n        \"semantic_type\": \"\",\n        \"description\": \"\"\n      }\n    },\n    {\n      \"column\": \"City\",\n      \"properties\": {\n        \"dtype\": \"category\",\n        \"num_unique_values\": 3,\n        \"samples\": [\n          \"Yangon\",\n          \"Naypyitaw\",\n          \"Mandalay\"\n        ],\n        \"semantic_type\": \"\",\n        \"description\": \"\"\n      }\n    },\n    {\n      \"column\": \"Customer type\",\n      \"properties\": {\n        \"dtype\": \"category\",\n        \"num_unique_values\": 2,\n        \"samples\": [\n          \"Normal\",\n          \"Member\"\n        ],\n        \"semantic_type\": \"\",\n        \"description\": \"\"\n      }\n    },\n    {\n      \"column\": \"Gender\",\n      \"properties\": {\n        \"dtype\": \"category\",\n        \"num_unique_values\": 2,\n        \"samples\": [\n          \"Male\",\n          \"Female\"\n        ],\n        \"semantic_type\": \"\",\n        \"description\": \"\"\n      }\n    },\n    {\n      \"column\": \"Product line\",\n      \"properties\": {\n        \"dtype\": \"category\",\n        \"num_unique_values\": 6,\n        \"samples\": [\n          \"Health and beauty\",\n          \"Electronic accessories\"\n        ],\n        \"semantic_type\": \"\",\n        \"description\": \"\"\n      }\n    },\n    {\n      \"column\": \"Unit price\",\n      \"properties\": {\n        \"dtype\": \"number\",\n        \"std\": 26.49462834791978,\n        \"min\": 10.08,\n        \"max\": 99.96,\n        \"num_unique_values\": 943,\n        \"samples\": [\n          12.45,\n          70.74\n        ],\n        \"semantic_type\": \"\",\n        \"description\": \"\"\n      }\n    },\n    {\n      \"column\": \"Quantity\",\n      \"properties\": {\n        \"dtype\": \"number\",\n        \"std\": 2,\n        \"min\": 1,\n        \"max\": 10,\n        \"num_unique_values\": 10,\n        \"samples\": [\n          1,\n          5\n        ],\n        \"semantic_type\": \"\",\n        \"description\": \"\"\n      }\n    },\n    {\n      \"column\": \"Tax 5%\",\n      \"properties\": {\n        \"dtype\": \"number\",\n        \"std\": 11.708825480998659,\n        \"min\": 0.5085,\n        \"max\": 49.65,\n        \"num_unique_values\": 990,\n        \"samples\": [\n          0.914,\n          2.348\n        ],\n        \"semantic_type\": \"\",\n        \"description\": \"\"\n      }\n    },\n    {\n      \"column\": \"Total\",\n      \"properties\": {\n        \"dtype\": \"number\",\n        \"std\": 245.88533510097187,\n        \"min\": 10.6785,\n        \"max\": 1042.65,\n        \"num_unique_values\": 990,\n        \"samples\": [\n          19.194,\n          49.308\n        ],\n        \"semantic_type\": \"\",\n        \"description\": \"\"\n      }\n    },\n    {\n      \"column\": \"Date\",\n      \"properties\": {\n        \"dtype\": \"object\",\n        \"num_unique_values\": 89,\n        \"samples\": [\n          \"2/14/2019\",\n          \"1/26/2019\"\n        ],\n        \"semantic_type\": \"\",\n        \"description\": \"\"\n      }\n    },\n    {\n      \"column\": \"Time\",\n      \"properties\": {\n        \"dtype\": \"object\",\n        \"num_unique_values\": 506,\n        \"samples\": [\n          \"10:13\",\n          \"11:21\"\n        ],\n        \"semantic_type\": \"\",\n        \"description\": \"\"\n      }\n    },\n    {\n      \"column\": \"Payment\",\n      \"properties\": {\n        \"dtype\": \"category\",\n        \"num_unique_values\": 3,\n        \"samples\": [\n          \"Ewallet\",\n          \"Cash\"\n        ],\n        \"semantic_type\": \"\",\n        \"description\": \"\"\n      }\n    },\n    {\n      \"column\": \"cogs\",\n      \"properties\": {\n        \"dtype\": \"number\",\n        \"std\": 234.1765096199732,\n        \"min\": 10.17,\n        \"max\": 993.0,\n        \"num_unique_values\": 990,\n        \"samples\": [\n          18.28,\n          46.96\n        ],\n        \"semantic_type\": \"\",\n        \"description\": \"\"\n      }\n    },\n    {\n      \"column\": \"gross margin percentage\",\n      \"properties\": {\n        \"dtype\": \"number\",\n        \"std\": 0.0,\n        \"min\": 4.761904762,\n        \"max\": 4.761904762,\n        \"num_unique_values\": 1,\n        \"samples\": [\n          4.761904762\n        ],\n        \"semantic_type\": \"\",\n        \"description\": \"\"\n      }\n    },\n    {\n      \"column\": \"gross income\",\n      \"properties\": {\n        \"dtype\": \"number\",\n        \"std\": 11.708825480998659,\n        \"min\": 0.5085,\n        \"max\": 49.65,\n        \"num_unique_values\": 990,\n        \"samples\": [\n          0.914\n        ],\n        \"semantic_type\": \"\",\n        \"description\": \"\"\n      }\n    },\n    {\n      \"column\": \"Rating\",\n      \"properties\": {\n        \"dtype\": \"number\",\n        \"std\": 1.7185802943791215,\n        \"min\": 4.0,\n        \"max\": 10.0,\n        \"num_unique_values\": 61,\n        \"samples\": [\n          9.1\n        ],\n        \"semantic_type\": \"\",\n        \"description\": \"\"\n      }\n    }\n  ]\n}"
            }
          },
          "metadata": {},
          "execution_count": 335
        }
      ]
    },
    {
      "cell_type": "code",
      "source": [
        "df_fn_tools = [\n",
        "    {\n",
        "        \"type\": \"function\",\n",
        "        \"function\": {\n",
        "            \"name\": \"retrieve_top_rated_stores\",\n",
        "            \"description\": \"Retrieve given number of top rated stores\",\n",
        "            \"parameters\": {\n",
        "                \"type\": \"object\",\n",
        "                \"properties\": {\n",
        "                    \"n\": {\n",
        "                        \"type\": \"integer\",\n",
        "                        \"description\": \"The number of top rated stores to find\"\n",
        "                    }\n",
        "                },\n",
        "                \"required\": [\"n\"]\n",
        "            }\n",
        "\n",
        "        }\n",
        "    },\n",
        "    {\n",
        "        \"type\": \"function\",\n",
        "        \"function\": {\n",
        "            \"name\": \"retrieve_total_sales_by_branch\",\n",
        "            \"description\": \"Retrieve total sales for the given branch\",\n",
        "            \"parameters\": {\n",
        "                \"type\": \"object\",\n",
        "                \"properties\": {\n",
        "                    \"Branch\": {\n",
        "                        \"type\": \"string\",\n",
        "                        \"description\": \"The name of the branch\"\n",
        "                    }\n",
        "                },\n",
        "                \"required\": [\"Branch\"]\n",
        "            }\n",
        "        }\n",
        "    }\n",
        "]\n",
        "\n",
        "\n",
        "def retrieve_top_rated_stores(n:int):\n",
        "  top_n = data.sort_values(by=\"Rating\", ascending=False).head(n)\n",
        "  return top_n"
      ],
      "metadata": {
        "id": "OggQ1m_V1lM7"
      },
      "execution_count": null,
      "outputs": []
    },
    {
      "cell_type": "code",
      "source": [
        "prompt = \"What's the top rated store?\"\n",
        "# prompt = \"What're the top 3 rated store\""
      ],
      "metadata": {
        "id": "HikcebR31lFa"
      },
      "execution_count": null,
      "outputs": []
    },
    {
      "cell_type": "code",
      "source": [
        "messages = [{\"role\":\"user\", \"content\": prompt }]\n",
        "\n",
        "response = client.chat.completions.create(\n",
        "    model = MODEL,\n",
        "    messages = messages,\n",
        "    tools=df_fn_tools,\n",
        "    tool_choice = \"auto\"\n",
        ")"
      ],
      "metadata": {
        "id": "4X-dL0mK-7Qc"
      },
      "execution_count": null,
      "outputs": []
    },
    {
      "cell_type": "code",
      "source": [
        "output = response.choices[0].message.tool_calls[0]\n",
        "df_fn = eval(output.function.name) ## danger zone\n",
        "args = json.loads(output.function.arguments)"
      ],
      "metadata": {
        "id": "l41aaYdv-7N4"
      },
      "execution_count": null,
      "outputs": []
    },
    {
      "cell_type": "code",
      "source": [
        "fn_res = df_fn(**args)\n",
        "print(fn_res)\n",
        "fn_res = fn_res.to_json()"
      ],
      "metadata": {
        "colab": {
          "base_uri": "https://localhost:8080/"
        },
        "id": "mhKNxKSV-7H2",
        "outputId": "14a97bb1-b945-4189-ec5f-b3416e85469e"
      },
      "execution_count": null,
      "outputs": [
        {
          "output_type": "stream",
          "name": "stdout",
          "text": [
            "      Invoice ID Branch      City Customer type  Gender  \\\n",
            "387  725-56-0833      A    Yangon        Normal  Female   \n",
            "159  423-57-2993      B  Mandalay        Normal    Male   \n",
            "853  866-70-2814      B  Mandalay        Normal  Female   \n",
            "\n",
            "               Product line  Unit price  Quantity  Tax 5%    Total       Date  \\\n",
            "387       Health and beauty       32.32        10  16.160  339.360  2/20/2019   \n",
            "159       Sports and travel       93.39         6  28.017  588.357  3/27/2019   \n",
            "853  Electronic accessories       52.79        10  26.395  554.295  2/25/2019   \n",
            "\n",
            "      Time      Payment    cogs  gross margin percentage  gross income  Rating  \n",
            "387  16:49  Credit card  323.20                 4.761905        16.160    10.0  \n",
            "159  19:18      Ewallet  560.34                 4.761905        28.017    10.0  \n",
            "853  11:58      Ewallet  527.90                 4.761905        26.395    10.0  \n"
          ]
        }
      ]
    },
    {
      "cell_type": "code",
      "source": [
        "response"
      ],
      "metadata": {
        "colab": {
          "base_uri": "https://localhost:8080/"
        },
        "id": "fftLHTMRIHKO",
        "outputId": "20dcbba2-fabd-4b1a-f2cb-9ede2063d552"
      },
      "execution_count": null,
      "outputs": [
        {
          "output_type": "execute_result",
          "data": {
            "text/plain": [
              "ChatCompletion(id='chatcmpl-97BcDMLAxpSF0mJj6c0Z7v1gd9c77', choices=[Choice(finish_reason='tool_calls', index=0, logprobs=None, message=ChatCompletionMessage(content=None, role='assistant', function_call=None, tool_calls=[ChatCompletionMessageToolCall(id='call_w4DXMa3xap6ezU12nTy24EiS', function=Function(arguments='{\"n\":3}', name='retrieve_top_rated_stores'), type='function')]))], created=1711499973, model='gpt-3.5-turbo-1106', object='chat.completion', system_fingerprint='fp_89448ee5dc', usage=CompletionUsage(completion_tokens=18, prompt_tokens=103, total_tokens=121))"
            ]
          },
          "metadata": {},
          "execution_count": 397
        }
      ]
    },
    {
      "cell_type": "code",
      "source": [
        "messages = [{\"role\":\"user\", \"content\": prompt }]\n",
        "messages.append({\n",
        "    \"role\": response.choices[0].message.role,\n",
        "    \"content\": str(response.choices[0].message.tool_calls[0].function)\n",
        "})\n",
        "messages.append(\n",
        "    {\"role\": \"function\",\n",
        "     \"tool_call_id\": output.id,\n",
        "     \"name\": output.function.name,\n",
        "     \"content\": fn_res\n",
        "     }\n",
        ")\n",
        "\n",
        "print(messages)"
      ],
      "metadata": {
        "colab": {
          "base_uri": "https://localhost:8080/"
        },
        "id": "8popYxjtDfxb",
        "outputId": "7bf14669-e6ea-4efb-9b9b-b69c77eacc49"
      },
      "execution_count": null,
      "outputs": [
        {
          "output_type": "stream",
          "name": "stdout",
          "text": [
            "[{'role': 'user', 'content': \"What're the top 3 rated store\"}, {'role': 'assistant', 'content': 'Function(arguments=\\'{\"n\":3}\\', name=\\'retrieve_top_rated_stores\\')'}, {'role': 'function', 'tool_call_id': 'call_w4DXMa3xap6ezU12nTy24EiS', 'name': 'retrieve_top_rated_stores', 'content': '{\"Invoice ID\":{\"387\":\"725-56-0833\",\"159\":\"423-57-2993\",\"853\":\"866-70-2814\"},\"Branch\":{\"387\":\"A\",\"159\":\"B\",\"853\":\"B\"},\"City\":{\"387\":\"Yangon\",\"159\":\"Mandalay\",\"853\":\"Mandalay\"},\"Customer type\":{\"387\":\"Normal\",\"159\":\"Normal\",\"853\":\"Normal\"},\"Gender\":{\"387\":\"Female\",\"159\":\"Male\",\"853\":\"Female\"},\"Product line\":{\"387\":\"Health and beauty\",\"159\":\"Sports and travel\",\"853\":\"Electronic accessories\"},\"Unit price\":{\"387\":32.32,\"159\":93.39,\"853\":52.79},\"Quantity\":{\"387\":10,\"159\":6,\"853\":10},\"Tax 5%\":{\"387\":16.16,\"159\":28.017,\"853\":26.395},\"Total\":{\"387\":339.36,\"159\":588.357,\"853\":554.295},\"Date\":{\"387\":\"2\\\\/20\\\\/2019\",\"159\":\"3\\\\/27\\\\/2019\",\"853\":\"2\\\\/25\\\\/2019\"},\"Time\":{\"387\":\"16:49\",\"159\":\"19:18\",\"853\":\"11:58\"},\"Payment\":{\"387\":\"Credit card\",\"159\":\"Ewallet\",\"853\":\"Ewallet\"},\"cogs\":{\"387\":323.2,\"159\":560.34,\"853\":527.9},\"gross margin percentage\":{\"387\":4.761904762,\"159\":4.761904762,\"853\":4.761904762},\"gross income\":{\"387\":16.16,\"159\":28.017,\"853\":26.395},\"Rating\":{\"387\":10.0,\"159\":10.0,\"853\":10.0}}'}]\n"
          ]
        }
      ]
    },
    {
      "cell_type": "code",
      "source": [
        "analyse_response = client.chat.completions.create(\n",
        "    model = MODEL,\n",
        "    messages = messages\n",
        ")\n"
      ],
      "metadata": {
        "id": "GFx0V9_yastq"
      },
      "execution_count": null,
      "outputs": []
    },
    {
      "cell_type": "code",
      "source": [
        "analyse_response.choices[0].message.content"
      ],
      "metadata": {
        "colab": {
          "base_uri": "https://localhost:8080/",
          "height": 71
        },
        "id": "_ZWNGkiGK8HF",
        "outputId": "3a60e8aa-6556-4533-e362-895f21f5d148"
      },
      "execution_count": null,
      "outputs": [
        {
          "output_type": "execute_result",
          "data": {
            "text/plain": [
              "'The top 3 rated stores are:\\n\\n1. Store with Invoice ID 725-56-0833 in Yangon\\n2. Store with Invoice ID 423-57-2993 in Mandalay\\n3. Store with Invoice ID 866-70-2814 in Mandalay'"
            ],
            "application/vnd.google.colaboratory.intrinsic+json": {
              "type": "string"
            }
          },
          "metadata": {},
          "execution_count": 400
        }
      ]
    },
    {
      "cell_type": "markdown",
      "source": [
        "# Build an Assistant\n",
        "\n"
      ],
      "metadata": {
        "id": "ioTTKoioL3Gl"
      }
    },
    {
      "cell_type": "code",
      "source": [
        "import requests\n",
        "\n",
        "def ask_ares(query: str) -> str:\n",
        "\n",
        "    api_key = userdata.get(\"ARES_API_KEY\")\n",
        "\n",
        "    if not api_key:\n",
        "      raise ValueError(\"API key for ARES is missing.\")\n",
        "\n",
        "    headers = {\n",
        "      \"x-api-key\": api_key,\n",
        "      \"content-type\": \"application/json\"\n",
        "    }\n",
        "\n",
        "    url = \"https://api-ares.traversaal.ai/d/predict\"\n",
        "    data = { \"data\": [query] }\n",
        "\n",
        "    try:\n",
        "      response = requests.post(url, json=data, headers=headers, timeout=20)\n",
        "\n",
        "      json_str = json.dumps(response.json(), indent=4)\n",
        "\n",
        "      return json_str\n",
        "\n",
        "    except requests.exceptions.RequestException as e:\n",
        "      return f\"Failed to fetch recommendations.\"\n",
        "\n"
      ],
      "metadata": {
        "id": "uXF2ouJUL_r0"
      },
      "execution_count": null,
      "outputs": []
    },
    {
      "cell_type": "code",
      "source": [
        "import time\n",
        "import json\n",
        "import sys\n",
        "\n",
        "def get_response(run, client, thread):\n",
        "    print(\"Initial Status:\", run.status)\n",
        "\n",
        "    while run.status in ['queued', 'in_progress', 'cancelling']:\n",
        "\n",
        "        time.sleep(0.2)\n",
        "\n",
        "        if run.status != 'in_progress':\n",
        "          print(f\"Current Status: {run.status}\")\n",
        "\n",
        "        elif run.status == 'in_progress':\n",
        "          print('.', end='', flush=True)\n",
        "          time.sleep(0.2)\n",
        "\n",
        "\n",
        "        run = client.beta.threads.runs.retrieve(thread_id=thread.id, run_id=run.id)\n",
        "\n",
        "        if run.status == 'requires_action':\n",
        "            run = handle_requires_action(run, client, thread)\n",
        "\n",
        "        elif run.status == 'failed':\n",
        "            print(\"\\nRun failed.\")\n",
        "            return\n",
        "\n",
        "        elif run.status == 'completed':\n",
        "            print(\"\\nRun completed.\")\n",
        "            display_messages(client, thread)\n",
        "            return\n",
        "\n",
        "def handle_requires_action(run, client, thread):\n",
        "    tool_responses = []\n",
        "    if run.required_action.type == 'submit_tool_outputs' and run.required_action.submit_tool_outputs.tool_calls:\n",
        "        for call in run.required_action.submit_tool_outputs.tool_calls:\n",
        "            if call.type == \"function\":\n",
        "\n",
        "                fn_call = getattr(sys.modules[\"__main__\"], call.function.name, None)\n",
        "                if fn_call:\n",
        "                    args = json.loads(call.function.arguments)\n",
        "                    tool_res = fn_call(**args)\n",
        "                    tool_responses.append({\"tool_call_id\": call.id, \"output\": tool_res})\n",
        "\n",
        "    return client.beta.threads.runs.submit_tool_outputs(thread_id=thread.id, run_id=run.id, tool_outputs=tool_responses)\n",
        "\n",
        "def display_messages(client, thread):\n",
        "    messages = client.beta.threads.messages.list(thread_id=thread.id).data\n",
        "    for msg in reversed(messages):\n",
        "        role_prefix = red(\"User: \", 'bold') if msg.role == \"user\" else green(\"Assistant: \", 'bold')\n",
        "        print(role_prefix + \" \".join(mc.text.value for mc in msg.content))\n",
        "\n"
      ],
      "metadata": {
        "id": "SSlOF9PZO8Yi"
      },
      "execution_count": 13,
      "outputs": []
    },
    {
      "cell_type": "code",
      "source": [
        "question = \"I need help traveling to Nepal\"\n",
        "# ask_ares(question)"
      ],
      "metadata": {
        "id": "1E0TNZE3Y1K8"
      },
      "execution_count": null,
      "outputs": []
    },
    {
      "cell_type": "markdown",
      "source": [
        "### Run a conversation with the assistant\n",
        "\n",
        "There are 3 main items to consider when running Assistant.\n",
        "\n",
        "- **Assitant**: This sets the model, instructions, tool, and context to use for the conversation\n",
        "- **Threads**: Represents the state of a conversation\n",
        "- **Runs**: executes a thread"
      ],
      "metadata": {
        "id": "V7eegsexf3F8"
      }
    },
    {
      "cell_type": "code",
      "source": [
        "assistants = client.beta.assistants.list()\n",
        "\n",
        "names = [(d.id, d.name) for d in assistants.data]\n",
        "\n",
        "for id, name in names:\n",
        "  if name == 'Personal Assistant':\n",
        "    print(name)\n",
        "    ## delete the assistant\n",
        "    response = client.beta.assistants.delete(assistant_id=id)\n",
        "    print(response)\n",
        "\n",
        "    ## or alternatively, retrieve the assistant,\n",
        "    # assistant = client.beta.assistants.retrieve(assistant_id=id)"
      ],
      "metadata": {
        "colab": {
          "base_uri": "https://localhost:8080/"
        },
        "id": "pj-gaYBam7jQ",
        "outputId": "24b47a2a-2779-4bc6-e6bb-9fdfda6047af"
      },
      "execution_count": null,
      "outputs": [
        {
          "output_type": "stream",
          "name": "stdout",
          "text": [
            "Personal Assistant\n",
            "AssistantDeleted(id='asst_sRvseihpUGrFpxzcutSzlxdk', deleted=True, object='assistant.deleted')\n"
          ]
        }
      ]
    },
    {
      "cell_type": "code",
      "source": [
        "## Create an assistant\n",
        "\n",
        "assistant = client.beta.assistants.create(\n",
        "    model = MODEL,\n",
        "    name = \"Personal Assistant\",\n",
        "    instructions = \"You are a helpful assistant. Before answering question, make sure to understand the question and requirements. Ask questions to gather as much information as needed to get the most accurate answer, but do not ask it all at the same time.\",\n",
        "    tools = [{\n",
        "        \"type\": \"function\",\n",
        "        \"function\": {\n",
        "            \"name\": \"ask_ares\",\n",
        "            \"parameters\": {\n",
        "                \"type\": \"object\",\n",
        "                \"properties\": {\n",
        "                    \"query\": {\n",
        "                        \"type\": \"string\",\n",
        "                        \"description\": \"Query asked by human to get answer from ARES\"\n",
        "                      }\n",
        "                },\n",
        "                \"required\": [\"query\"]\n",
        "            },\n",
        "            \"description\": \"Find me the best answer or suggestions based on my query\"\n",
        "            }\n",
        "        }],\n",
        "\n",
        ")"
      ],
      "metadata": {
        "id": "Kc1eRQm8L_kY"
      },
      "execution_count": null,
      "outputs": []
    },
    {
      "cell_type": "code",
      "source": [
        "## create a thread\n",
        "## represents a conversation with one or many assistants.\n",
        "## create a thread when a conversation is started with the assistant\n",
        "thread = client.beta.threads.create()"
      ],
      "metadata": {
        "id": "pGW3fHuFL_eD"
      },
      "execution_count": null,
      "outputs": []
    },
    {
      "cell_type": "code",
      "source": [
        "## message contents are as Message object in the thread\n",
        "## message can contain file or text, and there are no limit to the number of message\n",
        "## any messages larger than the context window are truncated\n",
        "message = client.beta.threads.messages.create(\n",
        "    thread_id = thread.id,\n",
        "    role = \"user\",\n",
        "    content = question\n",
        ")"
      ],
      "metadata": {
        "id": "XGSGVpcDt44T"
      },
      "execution_count": null,
      "outputs": []
    },
    {
      "cell_type": "code",
      "source": [
        "## create run\n",
        "## after all messages are added to the thread, it can be run\n",
        "## creating the run uses the model and tools\n",
        "## all runs are added to the thread as assistant messages\n",
        "run = client.beta.threads.runs.create(\n",
        "    thread_id=thread.id,\n",
        "    assistant_id=assistant.id\n",
        ")"
      ],
      "metadata": {
        "id": "PHWxNp3vyR6l"
      },
      "execution_count": null,
      "outputs": []
    },
    {
      "cell_type": "code",
      "source": [
        "get_response(run, client, thread)"
      ],
      "metadata": {
        "colab": {
          "base_uri": "https://localhost:8080/"
        },
        "id": "Iyzex2e4zqTj",
        "outputId": "1a571bdc-820f-4e60-c23f-4768cf2a57d6"
      },
      "execution_count": null,
      "outputs": [
        {
          "output_type": "stream",
          "name": "stdout",
          "text": [
            "Initial Status: queued\n",
            "Current Status: queued\n",
            "<function ask_ares at 0x791c12e8d240>\n",
            "Current Status: queued\n",
            "Current Status: queued\n",
            ".........................................................................................................................................................................................................\n",
            "Run completed.\n",
            "\u001b[1;31mUser: \u001b[0mI need help traveling to Nepal\n",
            "\u001b[1;32mAssistant: \u001b[0mNepal is a country known for its natural beauty, rich cultural heritage, and adventure opportunities. Here is a summary of information to help you plan your trip:\n",
            "\n",
            "1. Passport and Visa: Ensure your passport is valid for at least six months beyond your planned stay. You will need a visa to enter Nepal, which can be obtained from the country's embassy or nearest consulate prior to your visit.\n",
            "\n",
            "2. Safety: While Nepal is generally safe for tourists, it is recommended to exercise caution and stay updated on the current travel advisories. It is advisable not to trek or climb alone and to use a local guide or porter for safety.\n",
            "\n",
            "3. Best Time to Visit: The best time to visit Nepal is during the Autumn months of September to November and the Spring months of March to May. These seasons offer pleasant weather, clear skies, and vibrant landscapes.\n",
            "\n",
            "4. Transportation: Tribhuvan International Airport in Kathmandu is the primary international gateway to Nepal. Domestic flights are also available to reach popular tourist destinations within the country. Buses are a common mode of transportation, but be prepared for longer travel times and occasional delays. Taxis and ride-sharing apps are available for convenient city travel.\n",
            "\n",
            "5. Accommodation: Nepal offers a range of accommodation options, including international hotel chains, local hotel chains, charming boutique inns, and budget-friendly guesthouses. Consider staying in locally-owned accommodations to experience Nepali hospitality and support the local economy.\n",
            "\n",
            "6. Itineraries: The duration of your trip will depend on your interests and available time. For a brief introduction, 7-10 days is recommended to explore the Kathmandu Valley and nearby Himalayan foothills. For a more comprehensive experience, dedicating 3 weeks allows for in-depth exploration of major cities, trekking routes, and off-the-beaten-path destinations.\n",
            "\n",
            "7. Altitude and Regions: Nepal can be divided into three altitude belts - the Southern Plains (Terai), Hilly belt, and Himalayan belt. It is also divided into five regions - Eastern, Central, Western, Mid-Western, and Far-Western. Understanding these divisions can help you navigate the country and plan your itinerary.\n",
            "\n",
            "8. Health and Vaccinations: It is advisable to consult with your healthcare provider or a travel clinic for recommended vaccinations before traveling to Nepal. Common vaccinations include hepatitis A, hepatitis B, typhoid, cholera, yellow fever, Japanese encephalitis, rabies, meningitis, polio, measles, mumps, rubella (MMR), Tdap (tetanus, diphtheria, and pertussis), chickenpox, shingles, pneumonia, COVID-19, and influenza.\n",
            "\n",
            "9. Cultural Etiquette: Respect the local customs and traditions while in Nepal. Avoid eating with your left hand and be aware that beef is strictly prohibited among Hindus. When dining at restaurants, a 10% service charge is acceptable if not included. Tipping porters and guides is also customary.\n",
            "\n",
            "10. Must-Visit Places: Some popular destinations in Nepal include Kathmandu (including Boudhanath Stupa and Durbar Square), Bhaktapur, Pokhara, Annapurna Circuit trek, Chitwan National Park, and Lumbini (Buddha Birthplace).\n",
            "\n",
            "For more detailed information, you can refer to the following sources:\n",
            "- [U.S. Department of State - Nepal Travel Information](https://travel.state.gov/content/travel/en/international-travel/International-Travel-Country-Information-Pages/Nepal.html)\n",
            "- [Lonely Planet - Nepal Travel Guide](https://www.lonelyplanet.com/nepal)\n",
            "- [CIA World Factbook - Nepal Travel Facts](https://www.cia.gov/the-world-factbook/countries/nepal/travel-facts)\n",
            "- [and many more...]\n",
            "\n",
            "Feel free to explore these resources for a comprehensive guide to traveling to Nepal. If you have any specific questions or need further assistance, feel free to ask!\n"
          ]
        }
      ]
    },
    {
      "cell_type": "code",
      "source": [
        "## message contents are as Message object in the thread\n",
        "## message can contain file or text, and there are no limit to the number of message\n",
        "## any messages larger than the context window are truncated\n",
        "message = client.beta.threads.messages.create(\n",
        "    thread_id = thread.id,\n",
        "    role = \"user\",\n",
        "    content = \"What about accommodations?\"\n",
        ")"
      ],
      "metadata": {
        "id": "pw622HQnNXGg"
      },
      "execution_count": null,
      "outputs": []
    },
    {
      "cell_type": "code",
      "source": [
        "## create run\n",
        "## after all messages are added to the thread, it can be run\n",
        "## creating the run uses the model and tools\n",
        "## all runs are added to the thread as assistant messages\n",
        "run = client.beta.threads.runs.create(\n",
        "    thread_id=thread.id,\n",
        "    assistant_id=assistant.id\n",
        ")"
      ],
      "metadata": {
        "id": "WrUuflpkNXEO"
      },
      "execution_count": null,
      "outputs": []
    },
    {
      "cell_type": "code",
      "source": [
        "get_response(run, client, thread)"
      ],
      "metadata": {
        "colab": {
          "base_uri": "https://localhost:8080/"
        },
        "id": "oUbg3tDjNXBl",
        "outputId": "0bd4194f-6a8d-4d45-c75b-16fbc4f6e8b6"
      },
      "execution_count": null,
      "outputs": [
        {
          "output_type": "stream",
          "name": "stdout",
          "text": [
            "Initial Status: queued\n",
            "Current Status: queued\n",
            "...........................................................\n",
            "Run completed.\n",
            "\u001b[1;31mUser: \u001b[0mI need help traveling to Nepal\n",
            "\u001b[1;32mAssistant: \u001b[0mNepal is a country known for its natural beauty, rich cultural heritage, and adventure opportunities. Here is a summary of information to help you plan your trip:\n",
            "\n",
            "1. Passport and Visa: Ensure your passport is valid for at least six months beyond your planned stay. You will need a visa to enter Nepal, which can be obtained from the country's embassy or nearest consulate prior to your visit.\n",
            "\n",
            "2. Safety: While Nepal is generally safe for tourists, it is recommended to exercise caution and stay updated on the current travel advisories. It is advisable not to trek or climb alone and to use a local guide or porter for safety.\n",
            "\n",
            "3. Best Time to Visit: The best time to visit Nepal is during the Autumn months of September to November and the Spring months of March to May. These seasons offer pleasant weather, clear skies, and vibrant landscapes.\n",
            "\n",
            "4. Transportation: Tribhuvan International Airport in Kathmandu is the primary international gateway to Nepal. Domestic flights are also available to reach popular tourist destinations within the country. Buses are a common mode of transportation, but be prepared for longer travel times and occasional delays. Taxis and ride-sharing apps are available for convenient city travel.\n",
            "\n",
            "5. Accommodation: Nepal offers a range of accommodation options, including international hotel chains, local hotel chains, charming boutique inns, and budget-friendly guesthouses. Consider staying in locally-owned accommodations to experience Nepali hospitality and support the local economy.\n",
            "\n",
            "6. Itineraries: The duration of your trip will depend on your interests and available time. For a brief introduction, 7-10 days is recommended to explore the Kathmandu Valley and nearby Himalayan foothills. For a more comprehensive experience, dedicating 3 weeks allows for in-depth exploration of major cities, trekking routes, and off-the-beaten-path destinations.\n",
            "\n",
            "7. Altitude and Regions: Nepal can be divided into three altitude belts - the Southern Plains (Terai), Hilly belt, and Himalayan belt. It is also divided into five regions - Eastern, Central, Western, Mid-Western, and Far-Western. Understanding these divisions can help you navigate the country and plan your itinerary.\n",
            "\n",
            "8. Health and Vaccinations: It is advisable to consult with your healthcare provider or a travel clinic for recommended vaccinations before traveling to Nepal. Common vaccinations include hepatitis A, hepatitis B, typhoid, cholera, yellow fever, Japanese encephalitis, rabies, meningitis, polio, measles, mumps, rubella (MMR), Tdap (tetanus, diphtheria, and pertussis), chickenpox, shingles, pneumonia, COVID-19, and influenza.\n",
            "\n",
            "9. Cultural Etiquette: Respect the local customs and traditions while in Nepal. Avoid eating with your left hand and be aware that beef is strictly prohibited among Hindus. When dining at restaurants, a 10% service charge is acceptable if not included. Tipping porters and guides is also customary.\n",
            "\n",
            "10. Must-Visit Places: Some popular destinations in Nepal include Kathmandu (including Boudhanath Stupa and Durbar Square), Bhaktapur, Pokhara, Annapurna Circuit trek, Chitwan National Park, and Lumbini (Buddha Birthplace).\n",
            "\n",
            "For more detailed information, you can refer to the following sources:\n",
            "- [U.S. Department of State - Nepal Travel Information](https://travel.state.gov/content/travel/en/international-travel/International-Travel-Country-Information-Pages/Nepal.html)\n",
            "- [Lonely Planet - Nepal Travel Guide](https://www.lonelyplanet.com/nepal)\n",
            "- [CIA World Factbook - Nepal Travel Facts](https://www.cia.gov/the-world-factbook/countries/nepal/travel-facts)\n",
            "- [and many more...]\n",
            "\n",
            "Feel free to explore these resources for a comprehensive guide to traveling to Nepal. If you have any specific questions or need further assistance, feel free to ask!\n",
            "\u001b[1;31mUser: \u001b[0mWhat about accommodations?\n",
            "\u001b[1;32mAssistant: \u001b[0mNepal offers a range of accommodation options to suit different preferences and budgets. Here are some key points to consider when looking for accommodations in Nepal:\n",
            "\n",
            "1. International Hotel Chains: If you prefer the familiarity and amenities of international hotel chains, you can find options in major cities like Kathmandu and Pokhara. These hotels often offer a high level of service and modern facilities.\n",
            "\n",
            "2. Local Hotel Chains: Nepal also has local hotel chains that cater to both domestic and international travelers. These hotels may provide a blend of traditional Nepali hospitality with modern comforts.\n",
            "\n",
            "3. Boutique Inns: Charming boutique inns are a popular choice for travelers looking for a unique and intimate experience. These accommodations often exude local character and may be located in scenic areas.\n",
            "\n",
            "4. Guesthouses: Budget-friendly guesthouses are widely available in popular tourist destinations. These accommodations provide a more local and authentic experience, and they are ideal for budget-conscious travelers.\n",
            "\n",
            "When selecting accommodations in Nepal, you may also consider staying in locally-owned establishments to experience Nepali hospitality and support the local economy.\n",
            "\n",
            "It's important to research and plan your accommodations based on your travel itinerary, preferences, and available budget. Additionally, you can explore online travel platforms and review websites to check for ratings, reviews, and availability of accommodations in Nepal.\n",
            "\n",
            "If you have specific preferences or requirements for accommodations, please let me know so I can provide further assistance.\n"
          ]
        }
      ]
    },
    {
      "cell_type": "markdown",
      "source": [
        "## Assistant File\n",
        "\n",
        "#### Upload file"
      ],
      "metadata": {
        "id": "mqO9ddzko3kA"
      }
    },
    {
      "cell_type": "code",
      "source": [
        "from google.colab import files\n",
        "\n",
        "## original URL: https://www.sciencedirect.com/science/article/pii/S1936878X20300954?via%3Dihub. Elsevier blocks file downloads using script\n",
        "\n",
        "!wget -O example.pdf https://www.dropbox.com/scl/fi/y4o2uddef73nogpjx5lln/1-s2.0-S1936878X20300954-main.pdf?rlkey=pujaa3m056fk0imyn8tz9nb3j&dl=1\n"
      ],
      "metadata": {
        "colab": {
          "base_uri": "https://localhost:8080/"
        },
        "id": "D1awm6BMspNn",
        "outputId": "b5e19152-8d47-4c42-a7fc-6dc62378f590"
      },
      "execution_count": 20,
      "outputs": [
        {
          "output_type": "stream",
          "name": "stdout",
          "text": [
            "--2024-03-28 02:03:23--  https://www.dropbox.com/scl/fi/y4o2uddef73nogpjx5lln/1-s2.0-S1936878X20300954-main.pdf?rlkey=pujaa3m056fk0imyn8tz9nb3j\n",
            "Resolving www.dropbox.com (www.dropbox.com)... 162.125.5.18, 2620:100:601d:18::a27d:512\n",
            "Connecting to www.dropbox.com (www.dropbox.com)|162.125.5.18|:443... connected.\n",
            "HTTP request sent, awaiting response... 302 Found\n",
            "Location: https://uc43ff62d026c952ad21d932d493.dl.dropboxusercontent.com/cd/0/inline/CP5XRYkaFNmCWQav69Co8GKyOlp9JG9fHa3WJ5lk2ZMWb1Z4NeGVXkTh-ZcOarW6uvA0hQZSfy1RxkHELkAhNxBTLaA-xtyjndAzOold5styu_gnbvyhggLskAJBXzGqt_w/file# [following]\n",
            "--2024-03-28 02:03:25--  https://uc43ff62d026c952ad21d932d493.dl.dropboxusercontent.com/cd/0/inline/CP5XRYkaFNmCWQav69Co8GKyOlp9JG9fHa3WJ5lk2ZMWb1Z4NeGVXkTh-ZcOarW6uvA0hQZSfy1RxkHELkAhNxBTLaA-xtyjndAzOold5styu_gnbvyhggLskAJBXzGqt_w/file\n",
            "Resolving uc43ff62d026c952ad21d932d493.dl.dropboxusercontent.com (uc43ff62d026c952ad21d932d493.dl.dropboxusercontent.com)... 162.125.5.15, 2620:100:601d:15::a27d:50f\n",
            "Connecting to uc43ff62d026c952ad21d932d493.dl.dropboxusercontent.com (uc43ff62d026c952ad21d932d493.dl.dropboxusercontent.com)|162.125.5.15|:443... connected.\n",
            "HTTP request sent, awaiting response... 302 Found\n",
            "Location: /cd/0/inline2/CP52bV2qw8QgLLliuw0GEZokXSYQxuoaTXR-5vNQq7KSMPqhJijWihnad3eLj59fkgPUNM00NIvoyGeDNYau9F7j8HS72-aDjQ3lSvxlDFpTNK3cp7g_SQRHAhKJdyQy1ebQS-s4H3bhbxhmsh3baFbsUM1pcEI5OaLT15u5bnUWuuEmA-u7fpPathXFZShzcpDN0amPrntPP8af-x-8YG6f0b_t6pfuTBzRu4zybxKnUv7Em5w3ER4u9LzBxabkH2q6TlC4zQjaXFnOwm2k8zEWjWk0itcRccbLc3_WLAQZvfO2XKxdBQhyC5tKIZGfXhWZYExb5wdgQwCC-N9vg-hY6-W9xOkKCPF8ntmt3_MoAw/file [following]\n",
            "--2024-03-28 02:03:25--  https://uc43ff62d026c952ad21d932d493.dl.dropboxusercontent.com/cd/0/inline2/CP52bV2qw8QgLLliuw0GEZokXSYQxuoaTXR-5vNQq7KSMPqhJijWihnad3eLj59fkgPUNM00NIvoyGeDNYau9F7j8HS72-aDjQ3lSvxlDFpTNK3cp7g_SQRHAhKJdyQy1ebQS-s4H3bhbxhmsh3baFbsUM1pcEI5OaLT15u5bnUWuuEmA-u7fpPathXFZShzcpDN0amPrntPP8af-x-8YG6f0b_t6pfuTBzRu4zybxKnUv7Em5w3ER4u9LzBxabkH2q6TlC4zQjaXFnOwm2k8zEWjWk0itcRccbLc3_WLAQZvfO2XKxdBQhyC5tKIZGfXhWZYExb5wdgQwCC-N9vg-hY6-W9xOkKCPF8ntmt3_MoAw/file\n",
            "Reusing existing connection to uc43ff62d026c952ad21d932d493.dl.dropboxusercontent.com:443.\n",
            "HTTP request sent, awaiting response... 200 OK\n",
            "Length: 2046678 (2.0M) [application/pdf]\n",
            "Saving to: ‘example.pdf’\n",
            "\n",
            "example.pdf         100%[===================>]   1.95M  11.3MB/s    in 0.2s    \n",
            "\n",
            "2024-03-28 02:03:26 (11.3 MB/s) - ‘example.pdf’ saved [2046678/2046678]\n",
            "\n"
          ]
        }
      ]
    },
    {
      "cell_type": "code",
      "source": [
        "from openai import OpenAI\n",
        "from google.colab import userdata\n",
        "\n",
        "MODEL = 'gpt-3.5-turbo-1106'\n",
        "client = OpenAI(\n",
        "    api_key=userdata.get('OPENAI_API_KEY')\n",
        ")"
      ],
      "metadata": {
        "id": "DCIfS2xLxuBn"
      },
      "execution_count": 6,
      "outputs": []
    },
    {
      "cell_type": "code",
      "source": [
        "\n",
        "file_response = client.files.create(\n",
        "        file=open(\"example.pdf\", \"rb\"),\n",
        "        purpose=\"assistants\" ## must be one of 'fine-tune', 'assistants', 'batch', 'user_data'\n",
        "      )\n",
        "print(file_response.id)"
      ],
      "metadata": {
        "colab": {
          "base_uri": "https://localhost:8080/"
        },
        "id": "keRCkmdkp6n-",
        "outputId": "5747d364-ccf6-4115-8ba5-cd8d93275408"
      },
      "execution_count": 7,
      "outputs": [
        {
          "output_type": "stream",
          "name": "stdout",
          "text": [
            "file-DMn1ZaffU9NLVwu62ETFAQ3T\n"
          ]
        }
      ]
    },
    {
      "cell_type": "code",
      "source": [
        "assistant = client.beta.assistants.create(\n",
        "    model = MODEL,\n",
        "    name = \"Paper Reviewer\",\n",
        "    instructions = \"You are a helpful cardiology researcher. I will ask you questions about patient similarity in cardiac function and you will answer it in as much details as possible. You can use the documents I provide to you to help you answer the questions. If you are not 100% sure, you can say `I don't know`, but do not make up your answer.\",\n",
        "    tools = [{ \"type\": \"retrieval\" }]\n",
        ")"
      ],
      "metadata": {
        "id": "7fBM6Rp0uvkV"
      },
      "execution_count": 8,
      "outputs": []
    },
    {
      "cell_type": "code",
      "source": [
        "\n",
        "assistant_file = client.beta.assistants.files.create(\n",
        "  assistant_id=assistant.id,\n",
        "  file_id=file_response.id\n",
        ")\n",
        "\n"
      ],
      "metadata": {
        "id": "4HlUUVGxo5j6"
      },
      "execution_count": 9,
      "outputs": []
    },
    {
      "cell_type": "code",
      "source": [
        "question = \"What is the main objective of applying unsupervised machine-learning techniques to echocardiographic features according to the study?\"\n",
        "# question = \"Can you describe how the patient similarity network was validated and the generalizability of the model tested according to the document?\"\n",
        "# question = \"What were the significant findings of the study in relation to MACE-related hospitalization and death?\"\n",
        "# question = \"Discuss the potential clinical implications and limitations of the study as outlined in the document.\""
      ],
      "metadata": {
        "id": "PYkQtELDwugo"
      },
      "execution_count": 17,
      "outputs": []
    },
    {
      "cell_type": "code",
      "source": [
        "thread = client.beta.threads.create()\n",
        "\n",
        "message = client.beta.threads.messages.create(\n",
        "    thread_id = thread.id,\n",
        "    role = \"user\",\n",
        "    content = question\n",
        ")\n",
        "\n",
        "run = client.beta.threads.runs.create(\n",
        "    thread_id=thread.id,\n",
        "    assistant_id=assistant.id\n",
        ")"
      ],
      "metadata": {
        "id": "2bx_zN-SwRNS"
      },
      "execution_count": 11,
      "outputs": []
    },
    {
      "cell_type": "code",
      "source": [
        "get_response(run, client, thread)"
      ],
      "metadata": {
        "colab": {
          "base_uri": "https://localhost:8080/"
        },
        "id": "r2GstUZDx8A7",
        "outputId": "121e298a-2ed7-4f21-909e-fd9b029830b7"
      },
      "execution_count": 14,
      "outputs": [
        {
          "output_type": "stream",
          "name": "stdout",
          "text": [
            "Initial Status: queued\n",
            "Current Status: queued\n",
            "\n",
            "Run completed.\n",
            "\u001b[1;31mUser: \u001b[0mWhat is the main objective of applying unsupervised machine-learning techniques to echocardiographic features according to the study?\n",
            "\u001b[1;32mAssistant: \u001b[0mThe main objective of applying unsupervised machine-learning techniques to echocardiographic features, according to the study, was to integrate these features into a patient similarity network that could predict major adverse cardiac events (MACE) in an individual patient【7†source】.\n"
          ]
        }
      ]
    },
    {
      "cell_type": "code",
      "source": [
        "question = \"How were patients classified or grouped in the study, and what were the key echocardiographic features used?\"\n",
        "\n",
        "message = client.beta.threads.messages.create(\n",
        "    thread_id = thread.id,\n",
        "    role = \"user\",\n",
        "    content = question\n",
        ")\n",
        "\n",
        "run = client.beta.threads.runs.create(\n",
        "    thread_id=thread.id,\n",
        "    assistant_id=assistant.id\n",
        ")\n",
        "\n",
        "get_response(run, client, thread)"
      ],
      "metadata": {
        "colab": {
          "base_uri": "https://localhost:8080/"
        },
        "id": "CjkYMe6eyAFi",
        "outputId": "9f8586e2-6e41-4c04-8f0d-657ca0c65687"
      },
      "execution_count": 18,
      "outputs": [
        {
          "output_type": "stream",
          "name": "stdout",
          "text": [
            "Initial Status: queued\n",
            "Current Status: queued\n",
            ".....................................................\n",
            "Run completed.\n",
            "\u001b[1;31mUser: \u001b[0mWhat is the main objective of applying unsupervised machine-learning techniques to echocardiographic features according to the study?\n",
            "\u001b[1;32mAssistant: \u001b[0mThe main objective of applying unsupervised machine-learning techniques to echocardiographic features, according to the study, was to integrate these features into a patient similarity network that could predict major adverse cardiac events (MACE) in an individual patient【7†source】.\n",
            "\u001b[1;31mUser: \u001b[0mHow were patients classified or grouped in the study, and what were the key echocardiographic features used?\n",
            "\u001b[1;32mAssistant: \u001b[0mPatients in the study were classified into distinct groups using a network-based community detection algorithm, which allowed for the identification of patient clusters based on similar echocardiographic features. The key echocardiographic features used to evaluate cardiac function included the assessment of left ventricular ejection fraction and myocardial wall motion【12†source】. Additionally, it is worth noting that the American College of Cardiology/American Heart Association (ACC/AHA) guidelines were likely referred to for the echocardiographic assessment of such features【13†source】.\n"
          ]
        }
      ]
    },
    {
      "cell_type": "code",
      "source": [
        "!git clone https://github.com/sirishshresthas/openai-function-calling.git"
      ],
      "metadata": {
        "colab": {
          "base_uri": "https://localhost:8080/"
        },
        "id": "QYlLudoHyUCf",
        "outputId": "552486ee-525b-440a-836b-adbf3a1d932f"
      },
      "execution_count": 22,
      "outputs": [
        {
          "output_type": "stream",
          "name": "stdout",
          "text": [
            "Cloning into 'openai-function-calling'...\n",
            "remote: Enumerating objects: 11, done.\u001b[K\n",
            "remote: Counting objects: 100% (11/11), done.\u001b[K\n",
            "remote: Compressing objects: 100% (11/11), done.\u001b[K\n",
            "remote: Total 11 (delta 3), reused 0 (delta 0), pack-reused 0\u001b[K\n",
            "Receiving objects: 100% (11/11), 4.86 KiB | 4.86 MiB/s, done.\n",
            "Resolving deltas: 100% (3/3), done.\n"
          ]
        }
      ]
    },
    {
      "cell_type": "code",
      "source": [],
      "metadata": {
        "id": "VTckgrlnEs_1"
      },
      "execution_count": null,
      "outputs": []
    }
  ]
}